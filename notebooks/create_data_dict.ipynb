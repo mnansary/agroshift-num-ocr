{
 "cells": [
  {
   "cell_type": "code",
   "execution_count": null,
   "metadata": {},
   "outputs": [],
   "source": [
    "import random\n",
    "import pandas as pd\n",
    "from tqdm import tqdm\n",
    "BN_NUMS=['০', '১', '২', '৩', '৪', '৫', '৬', '৭', '৮', '৯']\n",
    "EN_NUMS=[\"0\",\"1\",\"2\",\"3\",\"4\",\"5\",\"6\",\"7\",\"8\",\"9\"]\n",
    "SYMBOLS=[\"-\",\"/\",\"=\"]\n",
    "DATA_CSV=\"../resources/eval.csv\"\n",
    "NUM_MOB=10000\n",
    "NUM_AMM=2000\n",
    "NUM_IDX=6000\n",
    "NUM_TOT=2000"
   ]
  },
  {
   "cell_type": "code",
   "execution_count": null,
   "metadata": {},
   "outputs": [],
   "source": [
    "def random_exec(poplutation=[0,1],weights=[0.7,0.3],match=0):\n",
    "    return random.choices(population=poplutation,weights=weights,k=1)[0]==match\n",
    "    \n",
    "def create_mobile_number(nums,start):\n",
    "    number=start\n",
    "    for i in range(9): # 11 digit number\n",
    "        number+=random.choice(nums)\n",
    "        if i==2 and random_exec(match=1): number+=\"-\"\n",
    "    return number\n",
    "\n",
    "def create_number(nums,len,ext=False,exts=[\"/\",\"/=\"]):\n",
    "    if len==1: choices=nums[1:] # exclude 0\n",
    "    else:choices=[i for i in nums]\n",
    "    number=\"\"\n",
    "    for i in range(len): \n",
    "        number+=random.choice(choices)\n",
    "    if ext and random_exec(match=1):number+=random.choice(exts)\n",
    "    return number\n",
    "\n",
    "\n",
    "def gen_id():\n",
    "    nums=random.choices(population=[BN_NUMS,EN_NUMS],weights=[0.35,0.65],k=1)[0]\n",
    "    dlen=random.choice([4,5,6,7])\n",
    "    return create_number(nums,dlen)\n",
    "\n",
    "def gen_amount():\n",
    "    nums=random.choices(population=[BN_NUMS,EN_NUMS],weights=[0.7,0.3],k=1)[0]\n",
    "    dlen=random.choice([1,2])\n",
    "    return create_number(nums,dlen)\n",
    "\n",
    "def gen_total():\n",
    "    nums=random.choices(population=[BN_NUMS,EN_NUMS],weights=[0.7,0.3],k=1)[0]\n",
    "    dlen=random.choice([3,4])\n",
    "    return create_number(nums,dlen,ext=True)\n",
    "\n",
    "def gen_mobile():\n",
    "    if random_exec(match=1):return create_mobile_number(BN_NUMS,\"০১\")\n",
    "    else:return create_mobile_number(EN_NUMS,\"01\")\n",
    "\n"
   ]
  },
  {
   "cell_type": "code",
   "execution_count": null,
   "metadata": {},
   "outputs": [],
   "source": [
    "data=[gen_mobile() for _ in tqdm(range(NUM_MOB))]\n",
    "dfm=pd.DataFrame({\"text\":data,\"dtype\":\"mobile\"})\n",
    "\n",
    "data=[gen_id() for _ in tqdm(range(NUM_IDX))]\n",
    "dfi=pd.DataFrame({\"text\":data,\"dtype\":\"id\"})\n",
    "\n",
    "data=[gen_total() for _ in tqdm(range(NUM_TOT))]\n",
    "dft=pd.DataFrame({\"text\":data,\"dtype\":\"total\"})\n",
    "\n",
    "data=[gen_amount() for _ in tqdm(range(NUM_AMM))]\n",
    "dfa=pd.DataFrame({\"text\":data,\"dtype\":\"amount\"})\n",
    "\n",
    "df=pd.concat([dfm,dft,dfa,dfi],ignore_index=True)\n",
    "df.to_csv(DATA_CSV,index=False)"
   ]
  },
  {
   "cell_type": "code",
   "execution_count": null,
   "metadata": {},
   "outputs": [],
   "source": []
  }
 ],
 "metadata": {
  "kernelspec": {
   "display_name": "Python 3.8.5 ('bangla')",
   "language": "python",
   "name": "python3"
  },
  "language_info": {
   "codemirror_mode": {
    "name": "ipython",
    "version": 3
   },
   "file_extension": ".py",
   "mimetype": "text/x-python",
   "name": "python",
   "nbconvert_exporter": "python",
   "pygments_lexer": "ipython3",
   "version": "3.8.5"
  },
  "orig_nbformat": 4,
  "vscode": {
   "interpreter": {
    "hash": "126373ade96202fc0d209e372d1dbf9a23bda23100911a41154f9dda3225d3ce"
   }
  }
 },
 "nbformat": 4,
 "nbformat_minor": 2
}
